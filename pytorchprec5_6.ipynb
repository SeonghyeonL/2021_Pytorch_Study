{
  "nbformat": 4,
  "nbformat_minor": 0,
  "metadata": {
    "colab": {
      "name": "pytorchprec5-6.ipynb",
      "provenance": [],
      "collapsed_sections": [],
      "authorship_tag": "ABX9TyPJQbP3k6WBveAdYP/jre6x"
    },
    "kernelspec": {
      "name": "python3",
      "display_name": "Python 3"
    },
    "language_info": {
      "name": "python"
    },
    "accelerator": "GPU"
  },
  "cells": [
    {
      "cell_type": "code",
      "metadata": {
        "id": "QU-F2OYJUp4i"
      },
      "source": [
        "# Logistic Regression (5)"
      ],
      "execution_count": null,
      "outputs": []
    },
    {
      "cell_type": "code",
      "metadata": {
        "id": "11FiZ1ApU1F5"
      },
      "source": [
        "import torch\n",
        "import torch.nn as nn\n",
        "import torch.nn.functional as F\n",
        "import torch.optim as optim"
      ],
      "execution_count": null,
      "outputs": []
    },
    {
      "cell_type": "code",
      "metadata": {
        "colab": {
          "base_uri": "https://localhost:8080/"
        },
        "id": "i_tr5QzuU8wm",
        "outputId": "c805b544-af05-4ed3-99a7-a31a8bf38bc9"
      },
      "source": [
        "# for resproducibility\n",
        "torch.manual_seed(1)"
      ],
      "execution_count": null,
      "outputs": [
        {
          "output_type": "execute_result",
          "data": {
            "text/plain": [
              "<torch._C.Generator at 0x7f02de6e7990>"
            ]
          },
          "metadata": {
            "tags": []
          },
          "execution_count": 28
        }
      ]
    },
    {
      "cell_type": "code",
      "metadata": {
        "colab": {
          "base_uri": "https://localhost:8080/"
        },
        "id": "svJSA6uoVDBS",
        "outputId": "31df2d0d-301a-471d-ec8c-d5396e70dbf5"
      },
      "source": [
        "# training data\n",
        "x_data = [[1,2],[2,3],[3,1],[4,3],[5,3],[6,2]]\n",
        "y_data = [[0],[0],[0],[1],[1],[1]]\n",
        "x_train = torch.FloatTensor(x_data)\n",
        "y_train = torch.FloatTensor(y_data)\n",
        "print(x_train.shape)\n",
        "print(y_train.shape)"
      ],
      "execution_count": null,
      "outputs": [
        {
          "output_type": "stream",
          "text": [
            "torch.Size([6, 2])\n",
            "torch.Size([6, 1])\n"
          ],
          "name": "stdout"
        }
      ]
    },
    {
      "cell_type": "code",
      "metadata": {
        "colab": {
          "base_uri": "https://localhost:8080/"
        },
        "id": "9ayT8D0SViPO",
        "outputId": "59231d44-119d-4df7-93ff-3944e7744323"
      },
      "source": [
        "# whole training procedure\n",
        "# 모델 초기화\n",
        "W = torch.zeros((2,1),requires_grad=True)\n",
        "b = torch.zeros(1,requires_grad=True)\n",
        "# optimizer 설정\n",
        "optimizer = optim.SGD([W,b],lr=1)\n",
        "nb_epochs = 1000\n",
        "for epoch in range(nb_epochs+1):\n",
        "  # cost 계산\n",
        "  hypothesis = torch.sigmoid(x_train.matmul(W)+b) # or .nm or @\n",
        "  cost = F.binary_cross_entropy(hypothesis,y_train)\n",
        "  # cost로 H(x) 계산\n",
        "  optimizer.zero_grad()\n",
        "  cost.backward()\n",
        "  optimizer.step()\n",
        "  # 100번마다 로그 출력\n",
        "  if epoch % 100 == 0:\n",
        "    print('Epoch {:4d}/{} Cost: {:6f}'.format(\n",
        "        epoch, nb_epochs, cost.item()\n",
        "    ))"
      ],
      "execution_count": null,
      "outputs": [
        {
          "output_type": "stream",
          "text": [
            "Epoch    0/1000 Cost: 0.693147\n",
            "Epoch  100/1000 Cost: 0.134722\n",
            "Epoch  200/1000 Cost: 0.080643\n",
            "Epoch  300/1000 Cost: 0.057900\n",
            "Epoch  400/1000 Cost: 0.045300\n",
            "Epoch  500/1000 Cost: 0.037261\n",
            "Epoch  600/1000 Cost: 0.031672\n",
            "Epoch  700/1000 Cost: 0.027556\n",
            "Epoch  800/1000 Cost: 0.024394\n",
            "Epoch  900/1000 Cost: 0.021888\n",
            "Epoch 1000/1000 Cost: 0.019852\n"
          ],
          "name": "stdout"
        }
      ]
    },
    {
      "cell_type": "code",
      "metadata": {
        "colab": {
          "base_uri": "https://localhost:8080/"
        },
        "id": "53DuAZF3ZgxQ",
        "outputId": "ac93b88e-23e7-4102-e6d3-9802f61d6d41"
      },
      "source": [
        "# Higher Implementation with Class\n",
        "class BinaryClassifier(nn.Module):\n",
        "  def __init__ (self):\n",
        "    super().__init__()\n",
        "    self.linear = nn.Linear(2,1)\n",
        "    self.sigmoid = nn.Sigmoid()\n",
        "  def forward(self,x):\n",
        "    return self.sigmoid(self.linear(x))\n",
        "model = BinaryClassifier()\n",
        "# training data\n",
        "x_data = [[1,2],[2,3],[3,1],[4,3],[5,3],[6,2]]\n",
        "y_data = [[0],[0],[0],[1],[1],[1]]\n",
        "x_train = torch.FloatTensor(x_data)\n",
        "y_train = torch.FloatTensor(y_data)\n",
        "# optimizer 설정\n",
        "optimizer = optim.SGD(model.parameters(),lr=1)\n",
        "nb_epochs = 100\n",
        "for epoch in range(nb_epochs+1):\n",
        "  # H(x) 계산\n",
        "  hypothesis = model(x_train)\n",
        "  # cost 계산\n",
        "  cost = F.binary_cross_entropy(hypothesis,y_train)\n",
        "  # cost로 H(x) 개선\n",
        "  optimizer.zero_grad()\n",
        "  cost.backward()\n",
        "  optimizer.step()\n",
        "  # 10번마다 로그 출력\n",
        "  if epoch % 10 == 0:\n",
        "    prediction = hypothesis>=torch.FloatTensor([0.5])\n",
        "    correct_prediction = prediction.float()==y_train\n",
        "    accuracy = correct_prediction.sum().item() / len(correct_prediction)\n",
        "    print('Epoch {:4d}/{} Cost: {:6f} Accuracy {:2.2f}%'.format(\n",
        "        epoch,nb_epochs,cost.item(),accuracy*100,\n",
        "    ))"
      ],
      "execution_count": null,
      "outputs": [
        {
          "output_type": "stream",
          "text": [
            "Epoch    0/100 Cost: 0.944424 Accuracy 50.00%\n",
            "Epoch   10/100 Cost: 0.583521 Accuracy 83.33%\n",
            "Epoch   20/100 Cost: 0.559472 Accuracy 83.33%\n",
            "Epoch   30/100 Cost: 0.458799 Accuracy 83.33%\n",
            "Epoch   40/100 Cost: 0.373940 Accuracy 83.33%\n",
            "Epoch   50/100 Cost: 0.294290 Accuracy 83.33%\n",
            "Epoch   60/100 Cost: 0.224786 Accuracy 83.33%\n",
            "Epoch   70/100 Cost: 0.176302 Accuracy 100.00%\n",
            "Epoch   80/100 Cost: 0.152989 Accuracy 100.00%\n",
            "Epoch   90/100 Cost: 0.141202 Accuracy 100.00%\n",
            "Epoch  100/100 Cost: 0.131799 Accuracy 100.00%\n"
          ],
          "name": "stdout"
        }
      ]
    },
    {
      "cell_type": "code",
      "metadata": {
        "id": "3QNxBEkWcXE8"
      },
      "source": [
        "# Softmax Classification (6)"
      ],
      "execution_count": null,
      "outputs": []
    },
    {
      "cell_type": "code",
      "metadata": {
        "colab": {
          "base_uri": "https://localhost:8080/"
        },
        "id": "589tXNIIG3TR",
        "outputId": "00c98e43-bc2d-4361-f183-cb6d9c6b35c6"
      },
      "source": [
        "z = torch.FloatTensor([1,2,3])\n",
        "hypothesis = F.softmax(z, dim=0)\n",
        "print(hypothesis)\n",
        "hypothesis.sum()"
      ],
      "execution_count": null,
      "outputs": [
        {
          "output_type": "stream",
          "text": [
            "tensor([0.0900, 0.2447, 0.6652])\n"
          ],
          "name": "stdout"
        },
        {
          "output_type": "execute_result",
          "data": {
            "text/plain": [
              "tensor(1.)"
            ]
          },
          "metadata": {
            "tags": []
          },
          "execution_count": 7
        }
      ]
    },
    {
      "cell_type": "code",
      "metadata": {
        "colab": {
          "base_uri": "https://localhost:8080/"
        },
        "id": "-qti9NQWHBta",
        "outputId": "05edc0f8-11d0-4e64-8472-73e13d052be8"
      },
      "source": [
        "z = torch.rand(3,5,requires_grad=True)\n",
        "hypothesis = F.softmax(z, dim=1)\n",
        "print(hypothesis)\n",
        "y = torch.randint(5,(3,)).long()\n",
        "print(y)"
      ],
      "execution_count": null,
      "outputs": [
        {
          "output_type": "stream",
          "text": [
            "tensor([[0.1831, 0.2236, 0.1995, 0.2336, 0.1602],\n",
            "        [0.1740, 0.1725, 0.1940, 0.1801, 0.2794],\n",
            "        [0.2618, 0.1860, 0.1656, 0.2060, 0.1806]], grad_fn=<SoftmaxBackward>)\n",
            "tensor([3, 1, 4])\n"
          ],
          "name": "stdout"
        }
      ]
    },
    {
      "cell_type": "code",
      "metadata": {
        "colab": {
          "base_uri": "https://localhost:8080/"
        },
        "id": "99KMIDC1HQp8",
        "outputId": "8ea230d7-a19d-4b25-81b3-ee3c3ca6e2a0"
      },
      "source": [
        "y_one_hot = torch.zeros_like(hypothesis)\n",
        "y_one_hot.scatter_(1, y.unsqueeze(1), 1)\n",
        "cost = (y_one_hot*-torch.log(hypothesis)).sum(dim=1).mean()\n",
        "print(cost)"
      ],
      "execution_count": null,
      "outputs": [
        {
          "output_type": "stream",
          "text": [
            "tensor(1.6410, grad_fn=<MeanBackward0>)\n"
          ],
          "name": "stdout"
        }
      ]
    },
    {
      "cell_type": "code",
      "metadata": {
        "colab": {
          "base_uri": "https://localhost:8080/"
        },
        "id": "5WO5cJiLHmjA",
        "outputId": "7b8e8d4f-8a90-4dd6-c8a5-c76aea47c32a"
      },
      "source": [
        "# training with low-level cross entropy loss (1)\n",
        "x_train = [[1,2,1,1],[2,1,3,2],[1,2,2,2],[1,3,3,3],[1,4,4,4],[1,5,5,5],[1,6,6,6],[1,7,7,7]]\n",
        "y_train = [2,2,2,1,1,1,0,0]\n",
        "x_train = torch.FloatTensor(x_train)\n",
        "y_train = torch.LongTensor(y_train)\n",
        "# 모델 초기화\n",
        "W = torch.zeros((4,3),requires_grad=True)\n",
        "b = torch.zeros(1,requires_grad=True)\n",
        "# optimizer 설정\n",
        "optimizer = optim.SGD([W,b],lr=0.1)\n",
        "nb_epochs=1000\n",
        "for epoch in range (nb_epochs+1):\n",
        "  # Cost 계산\n",
        "  hypothesis = F.softmax(x_train.matmul(W)+b, dim=1)\n",
        "  y_one_hot = torch.zeros_like(hypothesis)\n",
        "  y_one_hot.scatter_(1,y_train.unsqueeze(1),1)\n",
        "  cost=(y_one_hot*-torch.log(F.softmax(hypothesis,dim=1))).sum(dim=1).mean()\n",
        "  # Cost로 H(x) 계산\n",
        "  optimizer.zero_grad()\n",
        "  cost.backward()\n",
        "  optimizer.step()\n",
        "  # 100번마다 로그 출력\n",
        "  if epoch % 100 == 0:\n",
        "    print('Epoch {:4d}/{} Cost: {:.6f}'.format(\n",
        "        epoch,nb_epochs,cost.item()\n",
        "    ))"
      ],
      "execution_count": null,
      "outputs": [
        {
          "output_type": "stream",
          "text": [
            "Epoch    0/1000 Cost: 1.098612\n",
            "Epoch  100/1000 Cost: 0.969450\n",
            "Epoch  200/1000 Cost: 0.913969\n",
            "Epoch  300/1000 Cost: 0.879853\n",
            "Epoch  400/1000 Cost: 0.855244\n",
            "Epoch  500/1000 Cost: 0.836075\n",
            "Epoch  600/1000 Cost: 0.820364\n",
            "Epoch  700/1000 Cost: 0.807046\n",
            "Epoch  800/1000 Cost: 0.795501\n",
            "Epoch  900/1000 Cost: 0.785337\n",
            "Epoch 1000/1000 Cost: 0.776287\n"
          ],
          "name": "stdout"
        }
      ]
    },
    {
      "cell_type": "code",
      "metadata": {
        "colab": {
          "base_uri": "https://localhost:8080/"
        },
        "id": "v3ypCkEvOYnU",
        "outputId": "d44925de-b15b-4241-96eb-7146e1ca0c5e"
      },
      "source": [
        "# training with low-level cross entropy loss (2)\n",
        "class SoftmaxClassifierModel(nn.Module):\n",
        "  def __init__(self):\n",
        "    super().__init__()\n",
        "    self.linear=nn.Linear(4,3)\n",
        "  def forward(self,x):\n",
        "    return self.linear(x)\n",
        "model = SoftmaxClassifierModel()\n",
        "x_train = [[1,2,1,1],[2,1,3,2],[1,2,2,2],[1,3,3,3],[1,4,4,4],[1,5,5,5],[1,6,6,6],[1,7,7,7]]\n",
        "y_train = [2,2,2,1,1,1,0,0]\n",
        "x_train = torch.FloatTensor(x_train)\n",
        "y_train = torch.LongTensor(y_train)\n",
        "# 모델 초기화\n",
        "W = torch.zeros((4,3),requires_grad=True)\n",
        "b = torch.zeros(1,requires_grad=True)\n",
        "# optimizer 설정\n",
        "optimizer = optim.SGD(model.parameters(),lr=0.1)\n",
        "nb_epochs=1000\n",
        "for epoch in range (nb_epochs+1):\n",
        "  # H(x) 계산\n",
        "  prediction = model(x_train)\n",
        "  # Cost 계산\n",
        "  cost = F.cross_entropy(prediction, y_train)\n",
        "  # Cost로 H(x) 계산\n",
        "  optimizer.zero_grad()\n",
        "  cost.backward()\n",
        "  optimizer.step()\n",
        "  # 100번마다 로그 출력\n",
        "  if epoch % 100 == 0:\n",
        "    print('Epoch {:4d}/{} Cost: {:.6f}'.format(\n",
        "        epoch,nb_epochs,cost.item()\n",
        "    ))"
      ],
      "execution_count": null,
      "outputs": [
        {
          "output_type": "stream",
          "text": [
            "Epoch    0/1000 Cost: 2.383857\n",
            "Epoch  100/1000 Cost: 0.697646\n",
            "Epoch  200/1000 Cost: 0.521098\n",
            "Epoch  300/1000 Cost: 0.396014\n",
            "Epoch  400/1000 Cost: 0.313727\n",
            "Epoch  500/1000 Cost: 0.281993\n",
            "Epoch  600/1000 Cost: 0.259930\n",
            "Epoch  700/1000 Cost: 0.242190\n",
            "Epoch  800/1000 Cost: 0.227508\n",
            "Epoch  900/1000 Cost: 0.215087\n",
            "Epoch 1000/1000 Cost: 0.204393\n"
          ],
          "name": "stdout"
        }
      ]
    },
    {
      "cell_type": "code",
      "metadata": {
        "colab": {
          "base_uri": "https://localhost:8080/"
        },
        "id": "99S8o2IuQMWx",
        "outputId": "9708630c-e613-41cf-a6f8-506ba2459062"
      },
      "source": [
        "# training with low-level cross entropy loss (3)\n",
        "x_train = [[1,2,1,1],[2,1,3,2],[1,2,2,2],[1,3,3,3],[1,4,4,4],[1,5,5,5],[1,6,6,6],[1,7,7,7]]\n",
        "y_train = [2,2,2,1,1,1,0,0]\n",
        "x_train = torch.FloatTensor(x_train)\n",
        "y_train = torch.LongTensor(y_train)\n",
        "# 모델 초기화\n",
        "W = torch.zeros((4,3),requires_grad=True)\n",
        "b = torch.zeros(1,requires_grad=True)\n",
        "# optimizer 설정\n",
        "optimizer = optim.SGD([W,b],lr=0.1)\n",
        "nb_epochs=1000\n",
        "for epoch in range (nb_epochs+1):\n",
        "  # Cost 계산\n",
        "  z = x_train.matmul(W)+b\n",
        "  cost = F.cross_entropy(z, y_train)\n",
        "  # Cost로 H(x) 계산\n",
        "  optimizer.zero_grad()\n",
        "  cost.backward()\n",
        "  optimizer.step()\n",
        "  # 100번마다 로그 출력\n",
        "  if epoch % 100 == 0:\n",
        "    print('Epoch {:4d}/{} Cost: {:.6f}'.format(\n",
        "        epoch,nb_epochs,cost.item()\n",
        "    ))"
      ],
      "execution_count": null,
      "outputs": [
        {
          "output_type": "stream",
          "text": [
            "Epoch    0/1000 Cost: 1.098612\n",
            "Epoch  100/1000 Cost: 0.739279\n",
            "Epoch  200/1000 Cost: 0.606837\n",
            "Epoch  300/1000 Cost: 0.520902\n",
            "Epoch  400/1000 Cost: 0.455468\n",
            "Epoch  500/1000 Cost: 0.402059\n",
            "Epoch  600/1000 Cost: 0.357047\n",
            "Epoch  700/1000 Cost: 0.321602\n",
            "Epoch  800/1000 Cost: 0.302932\n",
            "Epoch  900/1000 Cost: 0.288865\n",
            "Epoch 1000/1000 Cost: 0.276602\n"
          ],
          "name": "stdout"
        }
      ]
    },
    {
      "cell_type": "code",
      "metadata": {
        "id": "kC8gjuYjSL4m"
      },
      "source": [
        ""
      ],
      "execution_count": null,
      "outputs": []
    }
  ]
}