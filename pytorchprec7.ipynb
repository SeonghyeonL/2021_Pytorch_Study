{
  "nbformat": 4,
  "nbformat_minor": 0,
  "metadata": {
    "colab": {
      "name": "pytorchprec7.ipynb",
      "provenance": [],
      "collapsed_sections": [],
      "authorship_tag": "ABX9TyODynEdY0uAfVi2eAG31z2w"
    },
    "kernelspec": {
      "name": "python3",
      "display_name": "Python 3"
    },
    "language_info": {
      "name": "python"
    },
    "accelerator": "GPU"
  },
  "cells": [
    {
      "cell_type": "code",
      "metadata": {
        "id": "k-iD6vasKTXo"
      },
      "source": [
        "# Tips (7-1)"
      ],
      "execution_count": null,
      "outputs": []
    },
    {
      "cell_type": "code",
      "metadata": {
        "colab": {
          "base_uri": "https://localhost:8080/"
        },
        "id": "gwDUiJOWKaXq",
        "outputId": "fc180966-3306-4170-d162-527f93b9dc55"
      },
      "source": [
        "# Imports\n",
        "import torch\n",
        "import torch.nn as nn\n",
        "import torch.nn.functional as F\n",
        "import torch.optim as optim\n",
        "\n",
        "# for reproducibility\n",
        "torch.manual_seed(1)"
      ],
      "execution_count": null,
      "outputs": [
        {
          "output_type": "execute_result",
          "data": {
            "text/plain": [
              "<torch._C.Generator at 0x7f893520b6b0>"
            ]
          },
          "metadata": {
            "tags": []
          },
          "execution_count": 2
        }
      ]
    },
    {
      "cell_type": "code",
      "metadata": {
        "id": "kKnJb6n_Ko9M"
      },
      "source": [
        "# Training & Test Dataset\n",
        "x_train = torch.FloatTensor([[1,2,1],[1,3,2],[1,3,4],[1,5,5],[1,7,5],[1,2,5],[1,6,6],[1,7,7]])\n",
        "y_train = torch.LongTensor([2,2,2,1,1,1,0,0])\n",
        "x_test = torch.FloatTensor([[2,2,1],[3,1,2],[3,3,4]])\n",
        "y_test = torch.LongTensor([2,2,2])"
      ],
      "execution_count": null,
      "outputs": []
    },
    {
      "cell_type": "code",
      "metadata": {
        "id": "e7FjG3IdMs5b"
      },
      "source": [
        "# Model\n",
        "class SoftmaxClassifierModel(nn.Module):\n",
        "  def __init__(self):\n",
        "    super().__init__()\n",
        "    self.linear = nn.Linear(3,3)\n",
        "  def forward(self,x):\n",
        "    return self.linear(x)\n",
        "model = SoftmaxClassifierModel()\n",
        "# optimizer 설정\n",
        "optimizer = optim.SGD(model.parameters(),lr=0.1)"
      ],
      "execution_count": null,
      "outputs": []
    },
    {
      "cell_type": "code",
      "metadata": {
        "id": "hX6Wes5tND8n"
      },
      "source": [
        "# Train\n",
        "def train(model,optimizer,x_train,y_train):\n",
        "  nb_epochs = 20\n",
        "  for epoch in range(nb_epochs):\n",
        "    # H(x) 계산\n",
        "    prediction = model(x_train)\n",
        "    # cost 계산\n",
        "    cost = F.cross_entropy(prediction, y_train)\n",
        "    # cost로 H(x) 개선\n",
        "    optimizer.zero_grad()\n",
        "    cost.backward()\n",
        "    optimizer.step()\n",
        "    print('Epoch {:4d}/{} Cost: {:.6f}'.format(\n",
        "        epoch, nb_epochs, cost.item()\n",
        "    ))"
      ],
      "execution_count": null,
      "outputs": []
    },
    {
      "cell_type": "code",
      "metadata": {
        "id": "ROOpVJNTNqNt"
      },
      "source": [
        "# Test (Validation)\n",
        "def test(model,optimizer,x_test,y_test):\n",
        "  prediction = model(x_test)\n",
        "  predicted_classes = prediction.max(1)[1]\n",
        "  correct_count = (predicted_classes == y_test).sum().item()\n",
        "  cost = F.cross_entropy(prediction, y_test)\n",
        "  print('Accuracy: {}% Cost: {:.6f}'.format(\n",
        "      correct_count / len(y_test) * 100, cost.item()\n",
        "  ))"
      ],
      "execution_count": null,
      "outputs": []
    },
    {
      "cell_type": "code",
      "metadata": {
        "colab": {
          "base_uri": "https://localhost:8080/"
        },
        "id": "crrIw7goOQG7",
        "outputId": "ffa21ec5-fb90-47f4-fb9c-0a9cd0ab360f"
      },
      "source": [
        "train(model, optimizer, x_train, y_train)"
      ],
      "execution_count": null,
      "outputs": [
        {
          "output_type": "stream",
          "text": [
            "Epoch    0/20 Cost: 1.280268\n",
            "Epoch    1/20 Cost: 1.007498\n",
            "Epoch    2/20 Cost: 0.999968\n",
            "Epoch    3/20 Cost: 0.992704\n",
            "Epoch    4/20 Cost: 0.985657\n",
            "Epoch    5/20 Cost: 0.978815\n",
            "Epoch    6/20 Cost: 0.972169\n",
            "Epoch    7/20 Cost: 0.965708\n",
            "Epoch    8/20 Cost: 0.959425\n",
            "Epoch    9/20 Cost: 0.953312\n",
            "Epoch   10/20 Cost: 0.947360\n",
            "Epoch   11/20 Cost: 0.941562\n",
            "Epoch   12/20 Cost: 0.935913\n",
            "Epoch   13/20 Cost: 0.930405\n",
            "Epoch   14/20 Cost: 0.925033\n",
            "Epoch   15/20 Cost: 0.919792\n",
            "Epoch   16/20 Cost: 0.914675\n",
            "Epoch   17/20 Cost: 0.909678\n",
            "Epoch   18/20 Cost: 0.904796\n",
            "Epoch   19/20 Cost: 0.900025\n"
          ],
          "name": "stdout"
        }
      ]
    },
    {
      "cell_type": "code",
      "metadata": {
        "colab": {
          "base_uri": "https://localhost:8080/"
        },
        "id": "u6gbV-xqOU_c",
        "outputId": "c14a30d3-bd0f-43c1-fe70-d2f3e5700fdc"
      },
      "source": [
        "test(model, optimizer, x_test, y_test)"
      ],
      "execution_count": null,
      "outputs": [
        {
          "output_type": "stream",
          "text": [
            "Accuracy: 100.0% Cost: 0.378607\n"
          ],
          "name": "stdout"
        }
      ]
    },
    {
      "cell_type": "code",
      "metadata": {
        "colab": {
          "base_uri": "https://localhost:8080/"
        },
        "id": "fBz9so1fOpcL",
        "outputId": "33d5e407-8a6d-4a7d-d8e0-29622ec8f79f"
      },
      "source": [
        "# 데이터 전처리 (Preprocessing)\n",
        "x_train = torch.FloatTensor([[73,80,75],\n",
        "                             [93,88,93],\n",
        "                             [89,91,90],\n",
        "                             [96,98,100],\n",
        "                             [73,66,70]])\n",
        "y_train = torch.FloatTensor([[152],[185],[180],[196],[142]])\n",
        "mu = x_train.mean(dim=0)\n",
        "sigma = x_train.std(dim=0)\n",
        "norm_x_train = (x_train - mu) / sigma\n",
        "print(norm_x_train)"
      ],
      "execution_count": null,
      "outputs": [
        {
          "output_type": "stream",
          "text": [
            "tensor([[-1.0674, -0.3758, -0.8398],\n",
            "        [ 0.7418,  0.2778,  0.5863],\n",
            "        [ 0.3799,  0.5229,  0.3486],\n",
            "        [ 1.0132,  1.0948,  1.1409],\n",
            "        [-1.0674, -1.5197, -1.2360]])\n"
          ],
          "name": "stdout"
        }
      ]
    },
    {
      "cell_type": "code",
      "metadata": {
        "id": "u-Ofk1X_PTZv"
      },
      "source": [
        "# Training with Preprocessed Data\n",
        "class MultivariateLinearRegressionModel(nn.Module):\n",
        "  def __init__(self):\n",
        "    super().__init__()\n",
        "    self.linear = nn.Linear(3,1)\n",
        "  def forward(self,x):\n",
        "    return self.linear(x)\n",
        "model = MultivariateLinearRegressionModel()\n",
        "optimizer = optim.SGD(model.parameters(),lr=1e-1)\n",
        "def train(model,optimizer,x_train,y_train):\n",
        "  nb_epochs = 20\n",
        "  for epoch in range(nb_epochs):\n",
        "    # H(x) 계산\n",
        "    prediction = model(x_train)\n",
        "    # cost 계산\n",
        "    cost = F.mse_loss(prediction, y_train)\n",
        "    # cost로 H(x) 개선\n",
        "    optimizer.zero_grad()\n",
        "    cost.backward()\n",
        "    optimizer.step()\n",
        "    print('Epoch {:4d}/{} Cost: {:.6f}'.format(\n",
        "        epoch, nb_epochs, cost.item()\n",
        "    ))"
      ],
      "execution_count": null,
      "outputs": []
    },
    {
      "cell_type": "code",
      "metadata": {
        "colab": {
          "base_uri": "https://localhost:8080/"
        },
        "id": "FfdJI88bQPdz",
        "outputId": "3d526753-d082-4082-a09c-b0e6037c1238"
      },
      "source": [
        "train(model, optimizer, norm_x_train, y_train)"
      ],
      "execution_count": null,
      "outputs": [
        {
          "output_type": "stream",
          "text": [
            "Epoch    0/20 Cost: 29476.849609\n",
            "Epoch    1/20 Cost: 18718.511719\n",
            "Epoch    2/20 Cost: 11937.442383\n",
            "Epoch    3/20 Cost: 7627.894531\n",
            "Epoch    4/20 Cost: 4878.606445\n",
            "Epoch    5/20 Cost: 3121.619629\n",
            "Epoch    6/20 Cost: 1997.883789\n",
            "Epoch    7/20 Cost: 1278.898926\n",
            "Epoch    8/20 Cost: 818.800293\n",
            "Epoch    9/20 Cost: 524.344238\n",
            "Epoch   10/20 Cost: 335.887390\n",
            "Epoch   11/20 Cost: 215.266602\n",
            "Epoch   12/20 Cost: 138.059769\n",
            "Epoch   13/20 Cost: 88.637863\n",
            "Epoch   14/20 Cost: 56.998798\n",
            "Epoch   15/20 Cost: 36.740929\n",
            "Epoch   16/20 Cost: 23.767536\n",
            "Epoch   17/20 Cost: 15.456335\n",
            "Epoch   18/20 Cost: 10.129311\n",
            "Epoch   19/20 Cost: 6.712480\n"
          ],
          "name": "stdout"
        }
      ]
    },
    {
      "cell_type": "code",
      "metadata": {
        "id": "k-9QIiGQQgBw"
      },
      "source": [
        "# MNIST Introduction (7-2)"
      ],
      "execution_count": null,
      "outputs": []
    },
    {
      "cell_type": "code",
      "metadata": {
        "colab": {
          "base_uri": "https://localhost:8080/"
        },
        "id": "TXwjiS_XQlfE",
        "outputId": "7b84f859-1598-4372-ae00-c68c1abe60c0"
      },
      "source": [
        "# Softmax\n",
        "import torch\n",
        "import torchvision.datasets as dsets\n",
        "import torchvision.transforms as transforms\n",
        "import random\n",
        "device = 'cuda' if torch.cuda.is_available() else 'cpu'\n",
        "# for reproducibility\n",
        "random.seed(777)\n",
        "torch.manual_seed(777)\n",
        "if device == 'cuda':\n",
        "    torch.cuda.manual_seed_all(777)\n",
        "# parameters\n",
        "training_epochs = 15\n",
        "batch_size = 100\n",
        "# reading data\n",
        "mnist_train = dsets.MNIST(root=\"MNIST_data/\",train=True,transform=transforms.ToTensor(),download=True)\n",
        "mnist_test = dsets.MNIST(root=\"MNIST_data/\",train=False,transform=transforms.ToTensor(),download=True)\n",
        "data_loader = torch.utils.data.DataLoader(dataset=mnist_train,batch_size=batch_size,shuffle=True,drop_last=True)\n",
        "# MNIST data image of shape 28x28=784\n",
        "linear=torch.nn.Linear(784,10,bias=True).to(device)\n",
        "# define cost/Loss & optimizer\n",
        "criterion = torch.nn.CrossEntropyLoss().to(device) # Softmax is internally computed\n",
        "optimizer = torch.optim.SGD(linear.parameters(),lr=0.1)\n",
        "for epoch in range(training_epochs):\n",
        "  avg_cost = 0\n",
        "  total_batch = len(data_loader)\n",
        "  for X,Y in data_loader:\n",
        "    # reshape input image into [batch_size by 784]\n",
        "    # label is not one-hot encoded\n",
        "    X = X.view(-1,28*28).to(device)\n",
        "    Y = Y.to(device)\n",
        "    optimizer.zero_grad()\n",
        "    hypothesis = linear(X)\n",
        "    cost = criterion(hypothesis,Y)\n",
        "    cost.backward()\n",
        "    optimizer.step()\n",
        "    avg_cost += cost/total_batch\n",
        "  print('Epoch:', '%04d' % (epoch + 1), 'cost =', '{:.9f}'.format(avg_cost))\n",
        "print('Learning finished')"
      ],
      "execution_count": null,
      "outputs": [
        {
          "output_type": "stream",
          "text": [
            "Epoch: 0001 cost = 0.534912407\n",
            "Epoch: 0002 cost = 0.359308600\n",
            "Epoch: 0003 cost = 0.331088215\n",
            "Epoch: 0004 cost = 0.316574186\n",
            "Epoch: 0005 cost = 0.307130307\n",
            "Epoch: 0006 cost = 0.300207883\n",
            "Epoch: 0007 cost = 0.294897288\n",
            "Epoch: 0008 cost = 0.290830463\n",
            "Epoch: 0009 cost = 0.287419587\n",
            "Epoch: 0010 cost = 0.284589082\n",
            "Epoch: 0011 cost = 0.281816185\n",
            "Epoch: 0012 cost = 0.279919654\n",
            "Epoch: 0013 cost = 0.277836859\n",
            "Epoch: 0014 cost = 0.276022315\n",
            "Epoch: 0015 cost = 0.274443179\n",
            "Learning finished\n"
          ],
          "name": "stdout"
        }
      ]
    },
    {
      "cell_type": "code",
      "metadata": {
        "colab": {
          "base_uri": "https://localhost:8080/"
        },
        "id": "c36Fs4RFTNBo",
        "outputId": "2d845b53-f2d4-4590-d8c7-91f94fee0fff"
      },
      "source": [
        "# Test\n",
        "# Test the model using test sets\n",
        "with torch.no_grad():\n",
        "  X_test = mnist_test.test_data.view(-1,28*28).float().to(device)\n",
        "  Y_test = mnist_test.test_labels.to(device)\n",
        "  prediction = linear(X_test)\n",
        "  correct_prediction = torch.argmax(prediction,1)==Y_test\n",
        "  accuracy = correct_prediction.float().mean()\n",
        "  print(\"Accuracy: \",accuracy.item())"
      ],
      "execution_count": null,
      "outputs": [
        {
          "output_type": "stream",
          "text": [
            "Accuracy:  0.8867999911308289\n"
          ],
          "name": "stdout"
        },
        {
          "output_type": "stream",
          "text": [
            "/usr/local/lib/python3.7/dist-packages/torchvision/datasets/mnist.py:69: UserWarning: test_data has been renamed data\n",
            "  warnings.warn(\"test_data has been renamed data\")\n",
            "/usr/local/lib/python3.7/dist-packages/torchvision/datasets/mnist.py:59: UserWarning: test_labels has been renamed targets\n",
            "  warnings.warn(\"test_labels has been renamed targets\")\n"
          ],
          "name": "stderr"
        }
      ]
    },
    {
      "cell_type": "code",
      "metadata": {
        "colab": {
          "base_uri": "https://localhost:8080/",
          "height": 377
        },
        "id": "FU1qegJve0Bi",
        "outputId": "37377db0-a0be-403e-a8b0-2b6741f7f79a"
      },
      "source": [
        "# Visualization\n",
        "import matplotlib.pyplot as plt\n",
        "import random\n",
        "r = random.randint(0,len(mnist_test)-1)\n",
        "X_single_data = mnist_test.test_data[r:r+1].view(-1,28*28).float().to(device)\n",
        "Y_single_data = mnist_test.test_labels[r:r+1].to(device)\n",
        "print('Label: ', Y_single_data.item())\n",
        "single_prediction = linear(X_single_data)\n",
        "print('Prediction: ', torch.argmax(single_prediction, 1).item())\n",
        "plt.imshow(mnist_test.test_data[r:r + 1].view(28, 28), cmap=\"Greys\", interpolation=\"nearest\")\n",
        "plt.show()"
      ],
      "execution_count": null,
      "outputs": [
        {
          "output_type": "stream",
          "text": [
            "Label:  7\n",
            "Prediction:  7\n"
          ],
          "name": "stdout"
        },
        {
          "output_type": "stream",
          "text": [
            "/usr/local/lib/python3.7/dist-packages/torchvision/datasets/mnist.py:69: UserWarning: test_data has been renamed data\n",
            "  warnings.warn(\"test_data has been renamed data\")\n",
            "/usr/local/lib/python3.7/dist-packages/torchvision/datasets/mnist.py:59: UserWarning: test_labels has been renamed targets\n",
            "  warnings.warn(\"test_labels has been renamed targets\")\n"
          ],
          "name": "stderr"
        },
        {
          "output_type": "display_data",
          "data": {
            "image/png": "[encoded data removed]",
            "text/plain": [
              "<Figure size 432x288 with 1 Axes>"
            ]
          },
          "metadata": {
            "tags": [],
            "needs_background": "light"
          }
        }
      ]
    },
    {
      "cell_type": "code",
      "metadata": {
        "id": "12zgpNHtfswY"
      },
      "source": [
        ""
      ],
      "execution_count": null,
      "outputs": []
    }
  ]
}