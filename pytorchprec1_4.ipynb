{
  "nbformat": 4,
  "nbformat_minor": 0,
  "metadata": {
    "colab": {
      "name": "pytorchprec1-4.ipynb",
      "provenance": [],
      "collapsed_sections": [],
      "authorship_tag": "ABX9TyPDj4yIUZS++Ue9q1pCLrrM"
    },
    "kernelspec": {
      "name": "python3",
      "display_name": "Python 3"
    },
    "language_info": {
      "name": "python"
    }
  },
  "cells": [
    {
      "cell_type": "code",
      "metadata": {
        "id": "Ji40Lxs-YTtq"
      },
      "source": [
        "# Pytorch Basic Tensor Manipulation 1 (1-1)"
      ],
      "execution_count": null,
      "outputs": []
    },
    {
      "cell_type": "code",
      "metadata": {
        "id": "Rx9E7SoGQ0fC"
      },
      "source": [
        "import numpy as np\n",
        "import torch"
      ],
      "execution_count": null,
      "outputs": []
    },
    {
      "cell_type": "code",
      "metadata": {
        "colab": {
          "base_uri": "https://localhost:8080/"
        },
        "id": "E7DyMJjERCzM",
        "outputId": "2f34107e-74d5-4bc2-c755-7173a1a3dd9a"
      },
      "source": [
        "t=np.array([0.,1.,2.,3.,4.,5.,6.])\n",
        "print(t)\n",
        "print('Rank of t : ', t.ndim)\n",
        "print('Shape of t : ', t.shape)\n",
        "print(t[0],t[1],t[-1])\n",
        "print(t[2:5], t[4:-1])\n",
        "print(t[:2],t[3:])"
      ],
      "execution_count": null,
      "outputs": [
        {
          "output_type": "stream",
          "text": [
            "[0. 1. 2. 3. 4. 5. 6.]\n",
            "Rank of t :  1\n",
            "Shape of t :  (7,)\n",
            "0.0 1.0 6.0\n",
            "[2. 3. 4.] [4. 5.]\n",
            "[0. 1.] [3. 4. 5. 6.]\n"
          ],
          "name": "stdout"
        }
      ]
    },
    {
      "cell_type": "code",
      "metadata": {
        "colab": {
          "base_uri": "https://localhost:8080/"
        },
        "id": "drBUTM1CRtol",
        "outputId": "f2911048-2da3-4548-e48e-55b5e719342c"
      },
      "source": [
        "t=np.array([[1.,2.,3.],[4.,5.,6.],[7.,8.,9.],[10.,11.,12.]])\n",
        "print(t)\n",
        "print('Rank of t : ', t.ndim)\n",
        "print('Shape of t : ', t.shape)"
      ],
      "execution_count": null,
      "outputs": [
        {
          "output_type": "stream",
          "text": [
            "[[ 1.  2.  3.]\n",
            " [ 4.  5.  6.]\n",
            " [ 7.  8.  9.]\n",
            " [10. 11. 12.]]\n",
            "Rank of t :  2\n",
            "Shape of t :  (4, 3)\n"
          ],
          "name": "stdout"
        }
      ]
    },
    {
      "cell_type": "code",
      "metadata": {
        "colab": {
          "base_uri": "https://localhost:8080/"
        },
        "id": "QQBVuqcUR-gm",
        "outputId": "fbd4d818-7457-47e6-f340-7fe62cab0f54"
      },
      "source": [
        "# 1D Array with PyTorch\n",
        "t=torch.FloatTensor([0.,1.,2.,3.,4.,5.,6.])\n",
        "print(t)\n",
        "print(t.dim()) # rank\n",
        "print(t.shape) # shape\n",
        "print(t.size()) # shape\n",
        "print(t[0],t[1],t[-1]) # element\n",
        "print(t[2:5],t[4:-1]) # slicing\n",
        "print(t[:2],t[3:]) # slicing"
      ],
      "execution_count": null,
      "outputs": [
        {
          "output_type": "stream",
          "text": [
            "tensor([0., 1., 2., 3., 4., 5., 6.])\n",
            "1\n",
            "torch.Size([7])\n",
            "torch.Size([7])\n",
            "tensor(0.) tensor(1.) tensor(6.)\n",
            "tensor([2., 3., 4.]) tensor([4., 5.])\n",
            "tensor([0., 1.]) tensor([3., 4., 5., 6.])\n"
          ],
          "name": "stdout"
        }
      ]
    },
    {
      "cell_type": "code",
      "metadata": {
        "colab": {
          "base_uri": "https://localhost:8080/"
        },
        "id": "tMKPd8MlSFXP",
        "outputId": "68170b50-b1e0-4a05-bc40-04a8b84b43a9"
      },
      "source": [
        "# 2D Array with PyTorch\n",
        "t=torch.FloatTensor([[1.,2.,3.],\n",
        "                    [4.,5.,6.],\n",
        "                    [7.,8.,9.],\n",
        "                    [10.,11.,12.]\n",
        "                    ])\n",
        "print(t)\n",
        "print(t.dim()) # rank\n",
        "print(t.size()) # shape\n",
        "print(t[:,1])\n",
        "print(t[:,1].size())\n",
        "print(t[:,:-1]) # 맨마지막만 제외"
      ],
      "execution_count": null,
      "outputs": [
        {
          "output_type": "stream",
          "text": [
            "tensor([[ 1.,  2.,  3.],\n",
            "        [ 4.,  5.,  6.],\n",
            "        [ 7.,  8.,  9.],\n",
            "        [10., 11., 12.]])\n",
            "2\n",
            "torch.Size([4, 3])\n",
            "tensor([ 2.,  5.,  8., 11.])\n",
            "torch.Size([4])\n",
            "tensor([[ 1.,  2.],\n",
            "        [ 4.,  5.],\n",
            "        [ 7.,  8.],\n",
            "        [10., 11.]])\n"
          ],
          "name": "stdout"
        }
      ]
    },
    {
      "cell_type": "code",
      "metadata": {
        "colab": {
          "base_uri": "https://localhost:8080/"
        },
        "id": "1Ca5_ID4TC1C",
        "outputId": "9b3513c5-ef0a-49e9-d78e-27b895615baf"
      },
      "source": [
        "# Broadcasting (다른 차원끼리 계산하기)\n",
        "# for same shape\n",
        "m1=torch.FloatTensor([[3,3]])\n",
        "m2=torch.FloatTensor([[2,2]])\n",
        "print(m1+m2)\n",
        "# for vector + scalar\n",
        "m1=torch.FloatTensor([[1,2]])\n",
        "m2=torch.FloatTensor([3])\n",
        "print(m1+m2) # m2가 [[3,3]]으로 자동 변환\n",
        "# for 2x1vector + 1x2vector\n",
        "m1=torch.FloatTensor([[1,2]])\n",
        "m2=torch.FloatTensor([[3],[4]])\n",
        "print(m1+m2) # [[1,2],[1,2]]+[[3,3],[4,4]]"
      ],
      "execution_count": null,
      "outputs": [
        {
          "output_type": "stream",
          "text": [
            "tensor([[5., 5.]])\n",
            "tensor([[4., 5.]])\n",
            "tensor([[4., 5.],\n",
            "        [5., 6.]])\n"
          ],
          "name": "stdout"
        }
      ]
    },
    {
      "cell_type": "code",
      "metadata": {
        "colab": {
          "base_uri": "https://localhost:8080/"
        },
        "id": "XjmOX-VnUCe2",
        "outputId": "ff2361b9-c459-44a3-ac38-9223242a2609"
      },
      "source": [
        "# Mul vs Matmul\n",
        "m1=torch.FloatTensor([[1,2],[3,4]])\n",
        "m2=torch.FloatTensor([[1],[2]])\n",
        "print(m1.matmul(m2)) # 2x1\n",
        "print(m1.mul(m2)) # 2x2"
      ],
      "execution_count": null,
      "outputs": [
        {
          "output_type": "stream",
          "text": [
            "tensor([[ 5.],\n",
            "        [11.]])\n",
            "tensor([[1., 2.],\n",
            "        [6., 8.]])\n"
          ],
          "name": "stdout"
        }
      ]
    },
    {
      "cell_type": "code",
      "metadata": {
        "colab": {
          "base_uri": "https://localhost:8080/"
        },
        "id": "q9KHGFJ2UnH8",
        "outputId": "2c147205-c4bc-4114-afbb-4a24b8341182"
      },
      "source": [
        "# Max\n",
        "t=torch.FloatTensor([[1,2],[3,4]])\n",
        "print(t.max())\n",
        "print(t.max(dim=0)) # max, argmax 순서\n",
        "print(t.max(dim=1))\n",
        "print(t.max(dim=-1))"
      ],
      "execution_count": null,
      "outputs": [
        {
          "output_type": "stream",
          "text": [
            "tensor(4.)\n",
            "torch.return_types.max(\n",
            "values=tensor([3., 4.]),\n",
            "indices=tensor([1, 1]))\n",
            "torch.return_types.max(\n",
            "values=tensor([2., 4.]),\n",
            "indices=tensor([1, 1]))\n",
            "torch.return_types.max(\n",
            "values=tensor([2., 4.]),\n",
            "indices=tensor([1, 1]))\n"
          ],
          "name": "stdout"
        }
      ]
    },
    {
      "cell_type": "code",
      "metadata": {
        "colab": {
          "base_uri": "https://localhost:8080/"
        },
        "id": "TPWmfSB9VRcs",
        "outputId": "bedaff8e-bb87-4988-e7ec-946b73844c7c"
      },
      "source": [
        "# Mean\n",
        "t=torch.FloatTensor([1,2])\n",
        "print(t.mean())\n",
        "# mean()은 integer, long에 대해 사용 불가\n",
        "t=torch.LongTensor([1,2])\n",
        "try:\n",
        "  print(t.mean())\n",
        "except Exception as exc:\n",
        "  print(exc)\n",
        "# 2x2\n",
        "t=torch.FloatTensor([[1,2],[3,4]])\n",
        "print(t.mean())\n",
        "print(t.mean(dim=0)) # dim 0을 없앰 (2x2 -> 1x2)\n",
        "print(t.mean(dim=1)) # (2x2 -> 2x1)\n",
        "print(t.mean(dim=-1))"
      ],
      "execution_count": null,
      "outputs": [
        {
          "output_type": "stream",
          "text": [
            "tensor(1.5000)\n",
            "Can only calculate the mean of floating types. Got Long instead.\n",
            "tensor(2.5000)\n",
            "tensor([2., 3.])\n",
            "tensor([1.5000, 3.5000])\n",
            "tensor([1.5000, 3.5000])\n"
          ],
          "name": "stdout"
        }
      ]
    },
    {
      "cell_type": "code",
      "metadata": {
        "colab": {
          "base_uri": "https://localhost:8080/"
        },
        "id": "zv1sOZHxW7FH",
        "outputId": "d3fe7b30-a1ed-4f60-8426-8d30506aca1c"
      },
      "source": [
        "# Sum\n",
        "t=torch.FloatTensor([[1,2],[3,4]])\n",
        "print(t.sum())\n",
        "print(t.sum(dim=0)) # 2x2 -> 1x2\n",
        "print(t.sum(dim=1)) # 2x2 -> 2x1\n",
        "print(t.sum(dim=-1))"
      ],
      "execution_count": null,
      "outputs": [
        {
          "output_type": "stream",
          "text": [
            "tensor(10.)\n",
            "tensor([4., 6.])\n",
            "tensor([3., 7.])\n",
            "tensor([3., 7.])\n"
          ],
          "name": "stdout"
        }
      ]
    },
    {
      "cell_type": "code",
      "metadata": {
        "id": "NZpJx9NOYA1D"
      },
      "source": [
        "# Pytorch Basic Tensor Manipulation 2 (1-2)"
      ],
      "execution_count": null,
      "outputs": []
    },
    {
      "cell_type": "code",
      "metadata": {
        "colab": {
          "base_uri": "https://localhost:8080/"
        },
        "id": "uZF6lLLkYjGO",
        "outputId": "a1d156a5-6d4b-4aa7-c8ae-69df34d25ed1"
      },
      "source": [
        "# View (numpy에서의 Reshape)\n",
        "t=np.array([[[0,1,2],[3,4,5]],[[6,7,8],[9,10,11]]]) # 2x2x3\n",
        "ft=torch.FloatTensor(t)\n",
        "print(ft.shape)\n",
        "print(ft.view([-1,3]))\n",
        "print(ft.view([-1,3]).shape)\n",
        "print(ft.view([-1,1,3])) # -1의 의미: 모르겠다 알아서 적절히\n",
        "print(ft.view([-1,1,3]).shape)"
      ],
      "execution_count": null,
      "outputs": [
        {
          "output_type": "stream",
          "text": [
            "torch.Size([2, 2, 3])\n",
            "tensor([[ 0.,  1.,  2.],\n",
            "        [ 3.,  4.,  5.],\n",
            "        [ 6.,  7.,  8.],\n",
            "        [ 9., 10., 11.]])\n",
            "torch.Size([4, 3])\n",
            "tensor([[[ 0.,  1.,  2.]],\n",
            "\n",
            "        [[ 3.,  4.,  5.]],\n",
            "\n",
            "        [[ 6.,  7.,  8.]],\n",
            "\n",
            "        [[ 9., 10., 11.]]])\n",
            "torch.Size([4, 1, 3])\n"
          ],
          "name": "stdout"
        }
      ]
    },
    {
      "cell_type": "code",
      "metadata": {
        "colab": {
          "base_uri": "https://localhost:8080/"
        },
        "id": "QYWjxlHsgZVW",
        "outputId": "10713980-04e8-4528-9695-f1f3f38c4a18"
      },
      "source": [
        "# Squeeze (쥐어짜서 없애줌 특히 해당 dim의 element가 1개일 때 해당 dim 없애기)\n",
        "ft=torch.FloatTensor([[0],[1],[2]])\n",
        "print(ft)\n",
        "print(ft.shape)\n",
        "print(ft.squeeze())\n",
        "print(ft.squeeze().shape)"
      ],
      "execution_count": null,
      "outputs": [
        {
          "output_type": "stream",
          "text": [
            "tensor([[0.],\n",
            "        [1.],\n",
            "        [2.]])\n",
            "torch.Size([3, 1])\n",
            "tensor([0., 1., 2.])\n",
            "torch.Size([3])\n"
          ],
          "name": "stdout"
        }
      ]
    },
    {
      "cell_type": "code",
      "metadata": {
        "colab": {
          "base_uri": "https://localhost:8080/"
        },
        "id": "pXaKLCpdgxRa",
        "outputId": "f50be361-4426-42bc-b2c9-841ae8fc2d12"
      },
      "source": [
        "# Unsqueeze (dim 반드시 명시할 것!)\n",
        "ft=torch.FloatTensor([0,1,2])\n",
        "print(ft.shape)\n",
        "print(ft.unsqueeze(0)) # dim=0\n",
        "print(ft.unsqueeze(0).shape)\n",
        "print(ft.view(1,-1)) # 뒤에는 모르겠고 처음에 1을 넣어라 (unsqueeze(0)과 동일)\n",
        "print(ft.unsqueeze(1))\n",
        "print(ft.unsqueeze(1).shape)\n",
        "print(ft.unsqueeze(-1))"
      ],
      "execution_count": null,
      "outputs": [
        {
          "output_type": "stream",
          "text": [
            "torch.Size([3])\n",
            "tensor([[0., 1., 2.]])\n",
            "torch.Size([1, 3])\n",
            "tensor([[0., 1., 2.]])\n",
            "tensor([[0.],\n",
            "        [1.],\n",
            "        [2.]])\n",
            "torch.Size([3, 1])\n",
            "tensor([[0.],\n",
            "        [1.],\n",
            "        [2.]])\n"
          ],
          "name": "stdout"
        }
      ]
    },
    {
      "cell_type": "code",
      "metadata": {
        "colab": {
          "base_uri": "https://localhost:8080/"
        },
        "id": "Rg9YFmkhhlw5",
        "outputId": "cf37652b-f42b-4b00-90d7-5cbec8fcd083"
      },
      "source": [
        "# Type Casting (Type 바꿔주기)\n",
        "lt=torch.LongTensor([1,2,3,4]) # 정수값\n",
        "print(lt)\n",
        "print(lt.float())\n",
        "bt=torch.ByteTensor([True,False,False,True])\n",
        "# ex) bt=(lt==3) -> bt=(0,0,1,0)\n",
        "print(bt)\n",
        "print(bt.long())\n",
        "print(bt.float())"
      ],
      "execution_count": null,
      "outputs": [
        {
          "output_type": "stream",
          "text": [
            "tensor([1, 2, 3, 4])\n",
            "tensor([1., 2., 3., 4.])\n",
            "tensor([1, 0, 0, 1], dtype=torch.uint8)\n",
            "tensor([1, 0, 0, 1])\n",
            "tensor([1., 0., 0., 1.])\n"
          ],
          "name": "stdout"
        }
      ]
    },
    {
      "cell_type": "code",
      "metadata": {
        "colab": {
          "base_uri": "https://localhost:8080/"
        },
        "id": "oXh-xLj7jFlq",
        "outputId": "b7392c7f-6adf-46cc-b4b0-fa49ec233397"
      },
      "source": [
        "# Concatenate (이어붙이기)\n",
        "x=torch.FloatTensor([[1,2],[3,4]]) # 2x2\n",
        "y=torch.FloatTensor([[5,6],[7,8]]) # 2x2\n",
        "print(torch.cat([x,y],dim=0)) # dim0이 늘어남 -> 4x2\n",
        "print(torch.cat([x,y],dim=1)) # dim1이 늘어남 -> 2x4"
      ],
      "execution_count": null,
      "outputs": [
        {
          "output_type": "stream",
          "text": [
            "tensor([[1., 2.],\n",
            "        [3., 4.],\n",
            "        [5., 6.],\n",
            "        [7., 8.]])\n",
            "tensor([[1., 2., 5., 6.],\n",
            "        [3., 4., 7., 8.]])\n"
          ],
          "name": "stdout"
        }
      ]
    },
    {
      "cell_type": "code",
      "metadata": {
        "colab": {
          "base_uri": "https://localhost:8080/"
        },
        "id": "ZDe95yYTjxjs",
        "outputId": "60261b70-dff2-4def-e9fc-1f9297d6a158"
      },
      "source": [
        "# Stacking (Concatenate를 더 편리하게)\n",
        "x=torch.FloatTensor([1,4]) # (2,)\n",
        "y=torch.FloatTensor([2,5]) # (2,)\n",
        "z=torch.FloatTensor([3,6]) # (2,)\n",
        "print(torch.stack([x,y,z])) # 쌓기 -> (3,2)\n",
        "print(torch.stack([x,y,z],dim=1)) # -> (2,3)\n",
        "print(torch.cat([x.unsqueeze(0),y.unsqueeze(0),z.unsqueeze(0)],dim=0))\n",
        "#                (1,2)          (1,2)          (1,2)\n",
        "# 즉 unsqueeze한 후 dim=0에 대해 cat한 것과 같음 -> (3.2)"
      ],
      "execution_count": null,
      "outputs": [
        {
          "output_type": "stream",
          "text": [
            "tensor([[1., 4.],\n",
            "        [2., 5.],\n",
            "        [3., 6.]])\n",
            "tensor([[1., 2., 3.],\n",
            "        [4., 5., 6.]])\n",
            "tensor([[1., 4.],\n",
            "        [2., 5.],\n",
            "        [3., 6.]])\n"
          ],
          "name": "stdout"
        }
      ]
    },
    {
      "cell_type": "code",
      "metadata": {
        "colab": {
          "base_uri": "https://localhost:8080/"
        },
        "id": "OXR1B3ink2WF",
        "outputId": "4f7ae5ac-155e-4195-9017-38f34efc3efe"
      },
      "source": [
        "# Ones and Zeros\n",
        "x=torch.FloatTensor([[0,1,2],[2,1,0]]) # (2,3)\n",
        "print(torch.ones_like(x)) # x와 shape도 같고 device도 같음\n",
        "print(torch.zeros_like(x))"
      ],
      "execution_count": null,
      "outputs": [
        {
          "output_type": "stream",
          "text": [
            "tensor([[1., 1., 1.],\n",
            "        [1., 1., 1.]])\n",
            "tensor([[0., 0., 0.],\n",
            "        [0., 0., 0.]])\n"
          ],
          "name": "stdout"
        }
      ]
    },
    {
      "cell_type": "code",
      "metadata": {
        "colab": {
          "base_uri": "https://localhost:8080/"
        },
        "id": "L2WFo8J8lpFp",
        "outputId": "14662edc-874a-4f3a-876b-bde311e35a8b"
      },
      "source": [
        "# In-place Operation\n",
        "x=torch.FloatTensor([[1,2],[3,4]])\n",
        "print(x.mul(2.)) # 정답값은 임의의 메모리에 들어감\n",
        "print(x)\n",
        "print(x.mul_(2.)) # _ is in-place operation -> 정답값이 기존 tensor로 들어감\n",
        "print(x)"
      ],
      "execution_count": null,
      "outputs": [
        {
          "output_type": "stream",
          "text": [
            "tensor([[2., 4.],\n",
            "        [6., 8.]])\n",
            "tensor([[1., 2.],\n",
            "        [3., 4.]])\n",
            "tensor([[2., 4.],\n",
            "        [6., 8.]])\n",
            "tensor([[2., 4.],\n",
            "        [6., 8.]])\n"
          ],
          "name": "stdout"
        }
      ]
    },
    {
      "cell_type": "code",
      "metadata": {
        "id": "GINXgGGpmIAQ"
      },
      "source": [
        "# Linea Regression (2)"
      ],
      "execution_count": null,
      "outputs": []
    },
    {
      "cell_type": "code",
      "metadata": {
        "id": "LtfBlxf4mM_K"
      },
      "source": [
        "import torch.optim as optim\n",
        "x_train=torch.FloatTensor([[1],[2],[3]])\n",
        "y_train=torch.FloatTensor([[2],[4],[6]])\n",
        "W=torch.zeros(1,requires_grad=True)\n",
        "b=torch.zeros(1,requires_grad=True)\n",
        "optimizer=optim.SGD([W,b],lr=0.01)"
      ],
      "execution_count": null,
      "outputs": []
    },
    {
      "cell_type": "code",
      "metadata": {
        "colab": {
          "base_uri": "https://localhost:8080/"
        },
        "id": "Fj6i6vGJnGDI",
        "outputId": "5528fa93-c31b-4b9b-b9f6-9ec75f2f755c"
      },
      "source": [
        "nb_epochs=1000\n",
        "for epoch in range(1,nb_epochs+1) :\n",
        "  hypothesis=x_train*W+b\n",
        "  cost=torch.mean((hypothesis-y_train)**2)\n",
        "  optimizer.zero_grad()\n",
        "  cost.backward()\n",
        "  optimizer.step()\n",
        "print(W,b)"
      ],
      "execution_count": null,
      "outputs": [
        {
          "output_type": "stream",
          "text": [
            "tensor([1.9974], requires_grad=True) tensor([0.0060], requires_grad=True)\n"
          ],
          "name": "stdout"
        }
      ]
    },
    {
      "cell_type": "code",
      "metadata": {
        "id": "f_d02oUeyYsl"
      },
      "source": [
        "# Deeper Look at GD (3)"
      ],
      "execution_count": null,
      "outputs": []
    },
    {
      "cell_type": "code",
      "metadata": {
        "colab": {
          "base_uri": "https://localhost:8080/"
        },
        "id": "48rtwf_Fyecz",
        "outputId": "868ea0ed-4824-4992-c203-8b9a4cbb3597"
      },
      "source": [
        "# 데이터\n",
        "x_train=torch.FloatTensor([[1],[2],[3]])\n",
        "y_train=torch.FloatTensor([[2],[4],[6]])\n",
        "# 모델 초기화\n",
        "W=torch.zeros(1)\n",
        "# learning rate 설정\n",
        "lr=0.1\n",
        "nb_epochs=10\n",
        "for epoch in range(1,nb_epochs+1) :\n",
        "  # H(x) 계산\n",
        "  hypothesis=x_train*W\n",
        "  # cost gradient 계산\n",
        "  cost=torch.mean((hypothesis-y_train)**2)\n",
        "  gradient=2*torch.mean((W*x_train-y_train)*x_train)\n",
        "  # cost gradient로 H(x) 계산\n",
        "  W-=lr*gradient\n",
        "  # 결과 출력\n",
        "  print('Epoch{:4d}/{} W:{:.3f},Cost:{:.6f}'.format(\n",
        "      epoch,nb_epochs,W.item(),cost.item()\n",
        "  ))"
      ],
      "execution_count": null,
      "outputs": [
        {
          "output_type": "stream",
          "text": [
            "Epoch   1/10 W:1.867,Cost:18.666666\n",
            "Epoch   2/10 W:1.991,Cost:0.082963\n",
            "Epoch   3/10 W:1.999,Cost:0.000369\n",
            "Epoch   4/10 W:2.000,Cost:0.000002\n",
            "Epoch   5/10 W:2.000,Cost:0.000000\n",
            "Epoch   6/10 W:2.000,Cost:0.000000\n",
            "Epoch   7/10 W:2.000,Cost:0.000000\n",
            "Epoch   8/10 W:2.000,Cost:0.000000\n",
            "Epoch   9/10 W:2.000,Cost:0.000000\n",
            "Epoch  10/10 W:2.000,Cost:0.000000\n"
          ],
          "name": "stdout"
        }
      ]
    },
    {
      "cell_type": "code",
      "metadata": {
        "colab": {
          "base_uri": "https://localhost:8080/"
        },
        "id": "0X1V6RDPz4xK",
        "outputId": "681e28d9-482a-4ed0-83c6-a31e6bf561db"
      },
      "source": [
        "# torch.optim으로 gradient descent!\n",
        "# 데이터\n",
        "x_train=torch.FloatTensor([[1],[2],[3]])\n",
        "y_train=torch.FloatTensor([[2],[4],[6]])\n",
        "# 모델 초기화\n",
        "W=torch.zeros(1,requires_grad=True)\n",
        "# optimizer 설정\n",
        "optimizer=optim.SGD([W],lr=0.15)\n",
        "nb_epochs=10\n",
        "for epoch in range(1,nb_epochs+1) :\n",
        "  # H(x) 계산\n",
        "  hypothesis=x_train*W\n",
        "  # cost gradient 계산\n",
        "  cost=torch.mean((hypothesis-y_train)**2)\n",
        "  # cost로 H(x) 개선\n",
        "  optimizer.zero_grad()\n",
        "  cost.backward()\n",
        "  optimizer.step()\n",
        "  # 결과 출력\n",
        "  print('Epoch{:4d}/{} W:{:.3f},Cost:{:.6f}'.format(\n",
        "      epoch,nb_epochs,W.item(),cost.item()\n",
        "  ))"
      ],
      "execution_count": null,
      "outputs": [
        {
          "output_type": "stream",
          "text": [
            "Epoch   1/10 W:2.800,Cost:18.666666\n",
            "Epoch   2/10 W:1.680,Cost:2.986668\n",
            "Epoch   3/10 W:2.128,Cost:0.477867\n",
            "Epoch   4/10 W:1.949,Cost:0.076459\n",
            "Epoch   5/10 W:2.020,Cost:0.012233\n",
            "Epoch   6/10 W:1.992,Cost:0.001957\n",
            "Epoch   7/10 W:2.003,Cost:0.000313\n",
            "Epoch   8/10 W:1.999,Cost:0.000050\n",
            "Epoch   9/10 W:2.001,Cost:0.000008\n",
            "Epoch  10/10 W:2.000,Cost:0.000001\n"
          ],
          "name": "stdout"
        }
      ]
    },
    {
      "cell_type": "code",
      "metadata": {
        "id": "mqweUs4T0zDD"
      },
      "source": [
        "# Multivariable Linear Regression (4-1)"
      ],
      "execution_count": null,
      "outputs": []
    },
    {
      "cell_type": "code",
      "metadata": {
        "colab": {
          "base_uri": "https://localhost:8080/"
        },
        "id": "xxQF8ePl2QgU",
        "outputId": "ec306cac-1c83-4f57-dd37-68ae3a9c1fe2"
      },
      "source": [
        "# 데이터\n",
        "x_train=torch.FloatTensor([[73,80,75],\n",
        "                           [93,88,93],\n",
        "                           [89,91,90],\n",
        "                           [96,98,100],\n",
        "                           [73,66,70]])\n",
        "y_train=torch.FloatTensor([[152],[185],[180],[196],[142]])\n",
        "# 모델 초기화\n",
        "W=torch.zeros((3,1),requires_grad=True)\n",
        "b=torch.zeros(1,requires_grad=True)\n",
        "# optimizer 설정\n",
        "optimizer=optim.SGD([W,b],lr=1e-5)\n",
        "nb_epochs=20\n",
        "for epoch in range(nb_epochs+1):\n",
        "  # H(x) 계산\n",
        "  hypothesis=x_train.matmul(W)+b\n",
        "  # cost 계산\n",
        "  cost=torch.mean((hypothesis-y_train)**2)\n",
        "  # cost로 H(x) 계산\n",
        "  optimizer.zero_grad()\n",
        "  cost.backward()\n",
        "  optimizer.step()\n",
        "  # 결과 출력\n",
        "  print('Epoch{:4d}/{} Cost:{:.6f}'.format(\n",
        "      epoch,nb_epochs,cost.item()\n",
        "  ))"
      ],
      "execution_count": null,
      "outputs": [
        {
          "output_type": "stream",
          "text": [
            "Epoch   0/20 Cost:29661.800781\n",
            "Epoch   1/20 Cost:9298.520508\n",
            "Epoch   2/20 Cost:2915.712402\n",
            "Epoch   3/20 Cost:915.040527\n",
            "Epoch   4/20 Cost:287.936096\n",
            "Epoch   5/20 Cost:91.371063\n",
            "Epoch   6/20 Cost:29.758249\n",
            "Epoch   7/20 Cost:10.445267\n",
            "Epoch   8/20 Cost:4.391237\n",
            "Epoch   9/20 Cost:2.493121\n",
            "Epoch  10/20 Cost:1.897688\n",
            "Epoch  11/20 Cost:1.710552\n",
            "Epoch  12/20 Cost:1.651416\n",
            "Epoch  13/20 Cost:1.632369\n",
            "Epoch  14/20 Cost:1.625924\n",
            "Epoch  15/20 Cost:1.623420\n",
            "Epoch  16/20 Cost:1.622152\n",
            "Epoch  17/20 Cost:1.621262\n",
            "Epoch  18/20 Cost:1.620501\n",
            "Epoch  19/20 Cost:1.619757\n",
            "Epoch  20/20 Cost:1.619046\n"
          ],
          "name": "stdout"
        }
      ]
    },
    {
      "cell_type": "code",
      "metadata": {
        "colab": {
          "base_uri": "https://localhost:8080/"
        },
        "id": "CuFQ_ulV3UbZ",
        "outputId": "01f32183-3a51-4264-fd44-11243c2fee0d"
      },
      "source": [
        "# nn.Module 및 F.mse_loss 사용\n",
        "import torch.nn as nn\n",
        "import torch.nn.functional as F\n",
        "class MultivariateLinearRegressionModel(nn.Module):\n",
        "  def __init__(self):\n",
        "    super().__init__()\n",
        "    self.linear=nn.Linear(3,1)\n",
        "  def forward(self,x):\n",
        "    return self.linear(x)\n",
        "# 데이터\n",
        "x_train=torch.FloatTensor([[73,80,75],\n",
        "                           [93,88,93],\n",
        "                           [89,91,90],\n",
        "                           [96,98,100],\n",
        "                           [73,66,70]])\n",
        "y_train=torch.FloatTensor([[152],[185],[180],[196],[142]])\n",
        "# 모델 초기화\n",
        "model=MultivariateLinearRegressionModel()\n",
        "# optimizer 설정\n",
        "optimizer=optim.SGD(model.parameters(),lr=1e-5)\n",
        "nb_epochs=20\n",
        "for epoch in range(nb_epochs+1):\n",
        "  # H(x) 계산\n",
        "  prediction=model(x_train)\n",
        "  # cost 계산\n",
        "  cost=F.mse_loss(prediction,y_train)\n",
        "  # cost로 H(x) 계산\n",
        "  optimizer.zero_grad()\n",
        "  cost.backward()\n",
        "  optimizer.step()\n",
        "  # 결과 출력\n",
        "  print('Epoch{:4d}/{} Cost:{:.6f}'.format(\n",
        "      epoch,nb_epochs,cost.item()\n",
        "  ))"
      ],
      "execution_count": null,
      "outputs": [
        {
          "output_type": "stream",
          "text": [
            "Epoch   0/20 Cost:44249.324219\n",
            "Epoch   1/20 Cost:13878.036133\n",
            "Epoch   2/20 Cost:4358.244141\n",
            "Epoch   3/20 Cost:1374.290527\n",
            "Epoch   4/20 Cost:438.974854\n",
            "Epoch   5/20 Cost:145.798813\n",
            "Epoch   6/20 Cost:53.899284\n",
            "Epoch   7/20 Cost:25.089352\n",
            "Epoch   8/20 Cost:16.054543\n",
            "Epoch   9/20 Cost:13.218239\n",
            "Epoch  10/20 Cost:12.324946\n",
            "Epoch  11/20 Cost:12.040476\n",
            "Epoch  12/20 Cost:11.946979\n",
            "Epoch  13/20 Cost:11.913299\n",
            "Epoch  14/20 Cost:11.898372\n",
            "Epoch  15/20 Cost:11.889383\n",
            "Epoch  16/20 Cost:11.882178\n",
            "Epoch  17/20 Cost:11.875566\n",
            "Epoch  18/20 Cost:11.869100\n",
            "Epoch  19/20 Cost:11.862763\n",
            "Epoch  20/20 Cost:11.856400\n"
          ],
          "name": "stdout"
        }
      ]
    },
    {
      "cell_type": "code",
      "metadata": {
        "id": "aqc7Qvsl4rL3"
      },
      "source": [
        "# Loading Data (4-2)"
      ],
      "execution_count": null,
      "outputs": []
    },
    {
      "cell_type": "code",
      "metadata": {
        "id": "YdRDmaSK7-hA"
      },
      "source": [
        "# PyTorch Dataset\n",
        "from torch.utils.data import Dataset\n",
        "class CustomDataset(Dataset):\n",
        "  def __init__ (self):\n",
        "    self.x_data=[[73,80,75],\n",
        "                 [93,88,93],\n",
        "                 [89,91,90],\n",
        "                 [96,98,100],\n",
        "                 [73,66,70]]\n",
        "    self.y_data=[[152],[185],[180],[196],[142]]\n",
        "  def __len__ (self):\n",
        "    return len(self.x_data) # 데이터셋의 총 데이터 수\n",
        "  def __getitem__ (self,idx):\n",
        "    x=torch.FloatTensor(self.x_data[idx])\n",
        "    y=torch.FloatTensor(self.y_data[idx])\n",
        "    return x,y # 입력된 인덱스에 상응하는 입출력 데이터 반환"
      ],
      "execution_count": null,
      "outputs": []
    },
    {
      "cell_type": "code",
      "metadata": {
        "id": "kVxXUvxS82N7"
      },
      "source": [
        "# PyTorch DataLoader\n",
        "dataset=CustomDataset()\n",
        "from torch.utils.data import DataLoader\n",
        "dataloader=DataLoader(\n",
        "    dataset,\n",
        "    batch_size=2, # 각 minibatch의 크기 (2의 제곱수)\n",
        "    shuffle=True, # epoch마다 데이터셋을 섞어서 데이터 학습 순서를 바꿈\n",
        ")"
      ],
      "execution_count": null,
      "outputs": []
    },
    {
      "cell_type": "code",
      "metadata": {
        "colab": {
          "base_uri": "https://localhost:8080/"
        },
        "id": "GuxNWbU19Otj",
        "outputId": "5ab92735-f2dd-4ab6-9807-c9f0b6796011"
      },
      "source": [
        "# Full Code with Dataset and DataLoader\n",
        "nb_epochs=20\n",
        "for epoch in range(nb_epochs+1):\n",
        "  for batch_idx,samples in enumerate(dataloader): # minibatch 인덱스와 데이터 받기\n",
        "    x_train,y_train=samples\n",
        "    # H(x) 계산\n",
        "    prediction=model(x_train)\n",
        "    # cost 계산\n",
        "    cost=F.mse_loss(prediction,y_train)\n",
        "    # cost로 H(x) 계산\n",
        "    optimizer.zero_grad()\n",
        "    cost.backward()\n",
        "    optimizer.step()\n",
        "    # 결과 출력\n",
        "    print('Epoch{:4d}/{} Batch {}/{} Cost:{:.6f}'.format(\n",
        "        epoch,nb_epochs,batch_idx+1,len(dataloader),cost.item()\n",
        "    ))\n"
      ],
      "execution_count": null,
      "outputs": [
        {
          "output_type": "stream",
          "text": [
            "Epoch   0/20 Batch 1/3 Cost:3.131616\n",
            "Epoch   0/20 Batch 2/3 Cost:17.234631\n",
            "Epoch   0/20 Batch 3/3 Cost:23.295912\n",
            "Epoch   1/20 Batch 1/3 Cost:21.449482\n",
            "Epoch   1/20 Batch 2/3 Cost:12.413155\n",
            "Epoch   1/20 Batch 3/3 Cost:12.666631\n",
            "Epoch   2/20 Batch 1/3 Cost:9.947742\n",
            "Epoch   2/20 Batch 2/3 Cost:21.045195\n",
            "Epoch   2/20 Batch 3/3 Cost:4.590249\n",
            "Epoch   3/20 Batch 1/3 Cost:2.232791\n",
            "Epoch   3/20 Batch 2/3 Cost:17.363939\n",
            "Epoch   3/20 Batch 3/3 Cost:23.739300\n",
            "Epoch   4/20 Batch 1/3 Cost:20.853479\n",
            "Epoch   4/20 Batch 2/3 Cost:6.330982\n",
            "Epoch   4/20 Batch 3/3 Cost:9.933423\n",
            "Epoch   5/20 Batch 1/3 Cost:8.901110\n",
            "Epoch   5/20 Batch 2/3 Cost:15.282537\n",
            "Epoch   5/20 Batch 3/3 Cost:21.228056\n",
            "Epoch   6/20 Batch 1/3 Cost:22.782278\n",
            "Epoch   6/20 Batch 2/3 Cost:9.207287\n",
            "Epoch   6/20 Batch 3/3 Cost:17.381760\n",
            "Epoch   7/20 Batch 1/3 Cost:5.900721\n",
            "Epoch   7/20 Batch 2/3 Cost:36.088470\n",
            "Epoch   7/20 Batch 3/3 Cost:2.239986\n",
            "Epoch   8/20 Batch 1/3 Cost:1.570729\n",
            "Epoch   8/20 Batch 2/3 Cost:17.433086\n",
            "Epoch   8/20 Batch 3/3 Cost:24.039259\n",
            "Epoch   9/20 Batch 1/3 Cost:11.837700\n",
            "Epoch   9/20 Batch 2/3 Cost:17.177538\n",
            "Epoch   9/20 Batch 3/3 Cost:3.547339\n",
            "Epoch  10/20 Batch 1/3 Cost:9.777174\n",
            "Epoch  10/20 Batch 2/3 Cost:14.479293\n",
            "Epoch  10/20 Batch 3/3 Cost:20.685591\n",
            "Epoch  11/20 Batch 1/3 Cost:22.893356\n",
            "Epoch  11/20 Batch 2/3 Cost:20.461199\n",
            "Epoch  11/20 Batch 3/3 Cost:7.583327\n",
            "Epoch  12/20 Batch 1/3 Cost:9.992683\n",
            "Epoch  12/20 Batch 2/3 Cost:14.823027\n",
            "Epoch  12/20 Batch 3/3 Cost:17.087076\n",
            "Epoch  13/20 Batch 1/3 Cost:11.385620\n",
            "Epoch  13/20 Batch 2/3 Cost:17.204676\n",
            "Epoch  13/20 Batch 3/3 Cost:33.077240\n",
            "Epoch  14/20 Batch 1/3 Cost:8.156511\n",
            "Epoch  14/20 Batch 2/3 Cost:15.518576\n",
            "Epoch  14/20 Batch 3/3 Cost:21.123854\n",
            "Epoch  15/20 Batch 1/3 Cost:19.500662\n",
            "Epoch  15/20 Batch 2/3 Cost:9.891689\n",
            "Epoch  15/20 Batch 3/3 Cost:18.198681\n",
            "Epoch  16/20 Batch 1/3 Cost:9.520470\n",
            "Epoch  16/20 Batch 2/3 Cost:9.151622\n",
            "Epoch  16/20 Batch 3/3 Cost:28.765114\n",
            "Epoch  17/20 Batch 1/3 Cost:16.925768\n",
            "Epoch  17/20 Batch 2/3 Cost:11.745758\n",
            "Epoch  17/20 Batch 3/3 Cost:5.617600\n",
            "Epoch  18/20 Batch 1/3 Cost:13.135628\n",
            "Epoch  18/20 Batch 2/3 Cost:16.009865\n",
            "Epoch  18/20 Batch 3/3 Cost:4.696847\n",
            "Epoch  19/20 Batch 1/3 Cost:6.481383\n",
            "Epoch  19/20 Batch 2/3 Cost:34.036331\n",
            "Epoch  19/20 Batch 3/3 Cost:3.036706\n",
            "Epoch  20/20 Batch 1/3 Cost:1.796625\n",
            "Epoch  20/20 Batch 2/3 Cost:24.535686\n",
            "Epoch  20/20 Batch 3/3 Cost:27.391174\n"
          ],
          "name": "stdout"
        }
      ]
    },
    {
      "cell_type": "code",
      "metadata": {
        "id": "YvVXFsxF-Ccj"
      },
      "source": [
        ""
      ],
      "execution_count": null,
      "outputs": []
    }
  ]
}